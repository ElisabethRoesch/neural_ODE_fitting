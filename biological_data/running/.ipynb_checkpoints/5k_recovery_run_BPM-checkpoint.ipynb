{
 "cells": [
  {
   "cell_type": "code",
   "execution_count": 1,
   "metadata": {},
   "outputs": [],
   "source": [
    "using  Plots, Optim, Dates, DiffEqParamEstim, Flux, DiffEqFlux, OrdinaryDiffEq"
   ]
  },
  {
   "cell_type": "code",
   "execution_count": 2,
   "metadata": {},
   "outputs": [
    {
     "data": {
      "text/plain": [
       "\"BPM\""
      ]
     },
     "execution_count": 2,
     "metadata": {},
     "output_type": "execute_result"
    }
   ],
   "source": [
    "\n",
    "x = [95.,110,151,156,171,174,173,172,177,173,172,174,173,172,177,173,172,172,174,173,172,171,174,173,172,177,173,172,174,173,172,177,173,172,172,174,173,172]\n",
    "st = length(x)\n",
    "ode_data = transpose(hcat(x[1:st]))\n",
    "u0 = [x[1]]\n",
    "tspan = (0.0f0, 3.f0)\n",
    "t = range(tspan[1], tspan[2], length = st)\n",
    "species1 = \"BPM\""
   ]
  },
  {
   "cell_type": "code",
   "execution_count": 3,
   "metadata": {},
   "outputs": [
    {
     "data": {
      "text/plain": [
       "1×38 LinearAlgebra.Transpose{Float64,Array{Float64,2}}:\n",
       " 95.0  110.0  151.0  156.0  171.0  …  172.0  172.0  174.0  173.0  172.0"
      ]
     },
     "execution_count": 3,
     "metadata": {},
     "output_type": "execute_result"
    }
   ],
   "source": [
    "ode_data"
   ]
  },
  {
   "cell_type": "code",
   "execution_count": 4,
   "metadata": {},
   "outputs": [
    {
     "data": {
      "text/plain": [
       "update_saver (generic function with 1 method)"
      ]
     },
     "execution_count": 4,
     "metadata": {},
     "output_type": "execute_result"
    }
   ],
   "source": [
    "mutable struct saver\n",
    "    losses::Array{Float64,1}\n",
    "    l2s::Array{Float64,1}\n",
    "    times::Array{Dates.Time,1}\n",
    "    count_epochs::Int128\n",
    "end\n",
    "function saver(n_epochs)\n",
    "    losses = zeros(n_epochs)\n",
    "    l2s = zeros(n_epochs)\n",
    "    times = fill(Dates.Time(Dates.now()),n_epochs)\n",
    "    count_epochs = 0\n",
    "    return saver(losses,l2s,times,count_epochs)\n",
    "end\n",
    "function update_saver(saver, loss_i, l2_i, time_i)\n",
    "    epoch_i = saver.count_epochs\n",
    "    saver.losses[epoch_i] = loss_i\n",
    "    saver.l2s[epoch_i] = l2_i\n",
    "    saver.times[epoch_i] = time_i\n",
    "end"
   ]
  },
  {
   "cell_type": "code",
   "execution_count": null,
   "metadata": {},
   "outputs": [],
   "source": [
    "scatter(t, ode_data[1,:], grid = \"off\", xlab = \"time\", ylab = \"Abundance\", label = species1)"
   ]
  },
  {
   "cell_type": "code",
   "execution_count": null,
   "metadata": {},
   "outputs": [],
   "source": [
    "# Building a neural ODE \n",
    "# Derivative is modeled by a neural net. Chain concatinates the functions ode function and two dense layers.\n",
    "dudt = Chain(Dense(1,100,tanh),\n",
    "       Dense(100,100,tanh),\n",
    "        Dense(100,100,tanh),\n",
    "       Dense(100,1))\n",
    "# Parameters of the model which are to be learnt. They are: W1 (2x50), b1 (50), W2 (50x2), b2 (2)\n",
    "ps = Flux.params(dudt)\n",
    "# Getting loss function from two stage collocation function\n",
    "function node_two_stage_function(model, x, tspan, saveat, ode_data,\n",
    "            args...; kwargs...)\n",
    "  dudt_(du,u,p,t) = du .= model(u)\n",
    "  prob_fly = ODEProblem(dudt_,x,tspan)\n",
    "  two_stage_method(prob_fly, saveat, ode_data)\n",
    "end\n",
    "loss_n_ode = node_two_stage_function(dudt, u0, tspan, t, ode_data, Tsit5(), reltol=1e-7, abstol=1e-9)\n",
    "#  loss function\n",
    "two_stage_loss_fct()=loss_n_ode.cost_function(ps)\n",
    "# Defining anonymous function for the neural ODE with the model. in: u0, out: solution with current params.\n",
    "n_ode = x->neural_ode(dudt, x, tspan, Tsit5(), saveat=t, reltol=1e-7, abstol=1e-9)\n",
    "n_epochs = 50000\n",
    "verify = 500 # for <verify>th epoch the L2 is calculated  \n",
    "data1 = Iterators.repeated((), n_epochs)\n",
    "opt1 = ADAM(0.0001)\n",
    "sa = saver(n_epochs)\n",
    "L2_loss_fct() = sum(abs2,ode_data .- n_ode(u0))\n",
    "# Callback function to observe two stage training.\n",
    "cb1 = function ()\n",
    "    sa.count_epochs = sa.count_epochs +  1\n",
    "    if mod(sa.count_epochs-1, verify)==0\n",
    "        update_saver(sa, Tracker.data(two_stage_loss_fct()),Tracker.data(L2_loss_fct()), Dates.Time(Dates.now()))\n",
    "        # println(\"\\\"\",Tracker.data(two_stage_loss_fct()),\"\\\" \\\"\",Dates.Time(Dates.now()),\"\\\";\")\n",
    "    else\n",
    "        update_saver(sa, Tracker.data(two_stage_loss_fct()),0,Dates.Time(Dates.now()))\n",
    "        # println(\"\\\"\",Tracker.data(two_stage_loss_fct()),\"\\\" \\\"\",Dates.Time(Dates.now()),\"\\\";\")\n",
    "    end\n",
    "end\n"
   ]
  },
  {
   "cell_type": "code",
   "execution_count": null,
   "metadata": {},
   "outputs": [],
   "source": [
    "pred = n_ode(u0)\n",
    "scatter(t, ode_data[1,:], label = string(\"Observation: \", species1), grid = \"off\")\n",
    "plot!(t, Flux.data(pred[1,:]), label = string(\"Prediction: \", species1))"
   ]
  },
  {
   "cell_type": "code",
   "execution_count": null,
   "metadata": {},
   "outputs": [],
   "source": [
    "# train n_ode with collocation method\n",
    "@time Flux.train!(two_stage_loss_fct, ps, data1, opt1, cb = cb1)"
   ]
  },
  {
   "cell_type": "code",
   "execution_count": null,
   "metadata": {},
   "outputs": [],
   "source": [
    "pred = n_ode(u0)\n",
    "scatter(t, ode_data[1,:], label = string(\"Observation \"), grid = \"off\", legend=:bottomright)\n",
    "plot!(t, Flux.data(pred[1,:]), label = string(\"Prediction \"))"
   ]
  },
  {
   "cell_type": "code",
   "execution_count": null,
   "metadata": {},
   "outputs": [],
   "source": [
    "header = string(\"col losses: \", sa.times[end] - sa.times[1])\n",
    "scatter(range(1,stop=length(sa.l2s)),log.(sa.l2s),width  =2, label = \"l2s\", grid = \"off\")\n",
    "plot!(range(1,stop=length(sa.losses)),log.(sa.losses), width  =2, label = header)\n",
    "# 5% of time even with l2s"
   ]
  },
  {
   "cell_type": "code",
   "execution_count": null,
   "metadata": {},
   "outputs": [],
   "source": [
    "pred = n_ode(u0)\n",
    "plot(t, Flux.data(pred[1,:]), label = string(\"trianed pred \"), grid = \"off\")\n",
    "pred = n_ode([200.])\n",
    "plot!(t, Flux.data(pred[1,:]), label = string(\"Prediction: \", species1))"
   ]
  },
  {
   "cell_type": "code",
   "execution_count": null,
   "metadata": {},
   "outputs": [],
   "source": []
  }
 ],
 "metadata": {
  "@webio": {
   "lastCommId": null,
   "lastKernelId": null
  },
  "kernelspec": {
   "display_name": "Julia 1.0.4",
   "language": "julia",
   "name": "julia-1.0"
  },
  "language_info": {
   "file_extension": ".jl",
   "mimetype": "application/julia",
   "name": "julia",
   "version": "1.0.4"
  }
 },
 "nbformat": 4,
 "nbformat_minor": 2
}
