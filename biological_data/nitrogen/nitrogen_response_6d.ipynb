{
 "cells": [
  {
   "cell_type": "code",
   "execution_count": 1,
   "metadata": {},
   "outputs": [
    {
     "name": "stderr",
     "output_type": "stream",
     "text": [
      "┌ Info: Recompiling stale cache file /Users/eroesch/.julia/compiled/v1.0/Optim/R5uoh.ji for Optim [429524aa-4258-5aef-a3af-852621145aeb]\n",
      "└ @ Base loading.jl:1190\n"
     ]
    },
    {
     "ename": "ArgumentError",
     "evalue": "ArgumentError: Package DiffEqParamEstim not found in current path:\n- Run `import Pkg; Pkg.add(\"DiffEqParamEstim\")` to install the DiffEqParamEstim package.\n",
     "output_type": "error",
     "traceback": [
      "ArgumentError: Package DiffEqParamEstim not found in current path:\n- Run `import Pkg; Pkg.add(\"DiffEqParamEstim\")` to install the DiffEqParamEstim package.\n",
      "",
      "Stacktrace:",
      " [1] require(::Module, ::Symbol) at ./loading.jl:823",
      " [2] top-level scope at In[1]:1"
     ]
    }
   ],
   "source": [
    "using  Plots, Optim, Dates, DiffEqParamEstim, Flux, DiffEqFlux, OrdinaryDiffEq, MAT, Statistics, LinearAlgebra"
   ]
  },
  {
   "cell_type": "code",
   "execution_count": 18,
   "metadata": {},
   "outputs": [],
   "source": [
    "# Input signal 1/2\n",
    "GLN = [-69.30526315789474 259210.52631578967;\n",
    "-39.98640350877193 128947.36842105305;\n",
    "-0.149561403508784 160526.3157894737;\n",
    "0.7504385964912217 2260526.3157894732;\n",
    "2.060526315789474 551315.789473684;\n",
    "4.986403508771957 1384210.5263157894;\n",
    "15.04956140350879 452631.5789473681;\n",
    "35.19692982456144 278947.3684210526]\n",
    "\n",
    "# Input signal 2/2\n",
    "alpha_KG = [-69.1822094691535 757981.241276999;\n",
    "-40.08608321377332 3916093.2665749225;\n",
    "0.02869440459110706 2755102.040816326;\n",
    "0.37302725968436334 374169.17986706924;\n",
    "1.9225251076040024 265413.4824661575;\n",
    "5.193687230989951 428864.2286182763;\n",
    "15.007173601147798 613094.0180950426;\n",
    "35.15064562410328 512195.1219512196]\n",
    "\n",
    "\n",
    "# Output signal 1/4\n",
    "GS = [-101.42291847737759 20384.542004960465;\n",
    "-69.45971918964945 21119.072350709095;\n",
    "-50.34850444109978 33766.773366120455;\n",
    "-40.36503932334175 36792.65681639921;\n",
    "-15.4415308191833 35790.60055540246;\n",
    "-0.2163667069439441 39585.56801560215;\n",
    "0.6828058423250809 25036.991499374642;\n",
    "1.5166161434153764 22449.706399847375;\n",
    "2.46560532508002 28784.686155215913;\n",
    "5.767635441177532 24513.174909376135;\n",
    "15.093944982652516 27798.528819451807;\n",
    "34.91354517767934 30811.693129544445]\n",
    "\n",
    "# Output signal 2/4\n",
    "GS_AMP = [-101.32081204643899 1699.0651431963197;\n",
    "-69.677357810612 946.9399868568944;\n",
    "-50.33083896861906 533.9919021474198;\n",
    "-40.333594782326045 1038.305810527214;\n",
    "-15.411499515966057 294.87206664829864;\n",
    "-0.005440965524059038 986.15733576411;\n",
    "0.09454560871685658 12688.614249676728;\n",
    "1.5734989648033206 12040.150085854206;\n",
    "2.419321787180536 7254.573590825261;\n",
    "4.681208883612783 13329.234943717805;\n",
    "14.874539814441874 7949.674601996914;\n",
    "34.905419060338204 2298.7726029720434]\n",
    "\n",
    "# Output signal 3/4\n",
    "PII = [-100.76322958187433 571.2230990278717;\n",
    "-69.08256359498955 469.27525484344596;\n",
    "-49.78293827241711 354.62037372054965;\n",
    "-39.739310629416224 126.08657949112057;\n",
    "-14.817909162403069 99.32241097299493;\n",
    "0.20554929265804844 125.00112134106439;\n",
    "1.0010734971787087 1354.327329922463;\n",
    "1.9684768600057794 1145.6053896136905;\n",
    "2.4428489837659697 956.4620642842406;\n",
    "5.616333902476242 1295.5062630636235;\n",
    "14.866231486659046 1353.9505593249226;\n",
    "34.999775731787196 1317.5338869269572]\n",
    "\n",
    "# Output signal 4/4\n",
    "PII_UMP = [-100.56515589631033 871.2177165907642;\n",
    "-68.9921386515799 1291.0119280786794;\n",
    "-49.67277772627915 1355.7043367491874;\n",
    "-39.759763890425546 1440.2175700688654;\n",
    "-14.775567323822372 1984.1038690752075;\n",
    "0.15351906728346876 1152.1764482493622;\n",
    "0.3939345914281489 1836.952523914467;\n",
    "1.0868336617616592 633.6728255701644;\n",
    "2.0628489239610985 503.21152080760476;\n",
    "5.36622999153758 522.6869724090293;\n",
    "15.134276854623351 789.8128407007932;\n",
    "34.961381013752145 968.6218867834257];"
   ]
  },
  {
   "cell_type": "code",
   "execution_count": 49,
   "metadata": {},
   "outputs": [],
   "source": [
    "scatter(GLN[:,1], zeros(8).+5, label = \"GLN\",color = colors[1], grid=\"off\", xlim = (-100,100),xlab = \"Time\", ylab = \"Species\",)\n",
    "scatter!(alpha_KG[:,1], zeros(8).+4, label=\"alpha_KG\",color = colors[2])\n",
    "scatter!(GS_AMP[:,1], zeros(12).+3, label =\"GS_AMP\",color = colors[3])\n",
    "scatter!(GS[:,1], zeros(12).+2,label = \"GS\",color = colors[4])\n",
    "scatter!(PII_UMP[:,1], zeros(12).+1, label = \"PII_UMP\",color = colors[5])\n",
    "scatter!(PII[:,1], zeros(12),  label = \"PII\",color = colors[6])\n",
    "savefig(\"datacoverage.pdf\")"
   ]
  },
  {
   "cell_type": "code",
   "execution_count": 19,
   "metadata": {},
   "outputs": [],
   "source": [
    "# Observed data: Only take timepoints where all species are measured into account\n",
    "ind_input_species = [2,4,6,8,9,10,11,12]\n",
    "ode_data = transpose(hcat(GLN[:,2], alpha_KG[:,2], GS[ind_input_species,2], GS_AMP[ind_input_species,2], PII[ind_input_species,2], PII_UMP[ind_input_species,2]));"
   ]
  },
  {
   "cell_type": "code",
   "execution_count": 39,
   "metadata": {},
   "outputs": [],
   "source": [
    "u0 =  u0 = ode_data[:,1]\n",
    "tspan = (0., 1.)\n",
    "t = GS[ind_input_species, 1]\n",
    "t = t.+abs(t[1])\n",
    "t = t./t[end]\n",
    "species = [\"GLN\",\"alpha_KG\", \"GS\", \"GS-AMP\", \"PII\", \"PII-UMP\"]\n",
    "colors = [\"grey\", \"orange\", \"red\", \"purple\", \"green\", \"blue\"];"
   ]
  },
  {
   "cell_type": "code",
   "execution_count": 36,
   "metadata": {},
   "outputs": [],
   "source": [
    "test = [6,5,4]\n",
    "plot(ode_data[test[1],:], ode_data[test[2],:], ode_data[test[3],:], color = \"green\", xlab = species[test[1]], ylab = species[test[2]], zlab  = species[test[3]], label = \"\", grid = \"off\")\n",
    "scatter!(ode_data[test[1],:], ode_data[test[2],:], ode_data[test[3],:], label = \"Path in state space\", color = \"green\")\n",
    "savefig(\"statespace_nitrogen.pdf\")"
   ]
  },
  {
   "cell_type": "code",
   "execution_count": 37,
   "metadata": {},
   "outputs": [],
   "source": [
    "mutable struct saver\n",
    "    losses::Array{Float64,1}\n",
    "    l2s::Array{Float64,1}\n",
    "    times::Array{Dates.Time,1}\n",
    "    count_epochs::Int128\n",
    "end\n",
    "function saver(n_epochs)\n",
    "    losses = zeros(n_epochs)\n",
    "    l2s = zeros(n_epochs)\n",
    "    times = fill(Dates.Time(Dates.now()), n_epochs)\n",
    "    count_epochs = 0\n",
    "    return saver(losses, l2s, times, count_epochs)\n",
    "end\n",
    "function update_saver(saver, loss_i, l2_i, time_i)\n",
    "    epoch_i = saver.count_epochs\n",
    "    saver.losses[epoch_i] = loss_i\n",
    "    saver.l2s[epoch_i] = l2_i\n",
    "    saver.times[epoch_i] = time_i\n",
    "    end;"
   ]
  },
  {
   "cell_type": "code",
   "execution_count": 40,
   "metadata": {},
   "outputs": [],
   "source": [
    "\n",
    "scatter(t, log.(ode_data[1,:]), grid = \"off\", xlab = \"time\", ylab = \"Abundance\", label = species[1], xlim = (0,1.5), color = colors[1], legend = :right)\n",
    "plot!(t, log.(ode_data[1,:]), label = \"\", color = colors[1])\n",
    "\n",
    "scatter!(t, log.(ode_data[2,:]), label = species[2], color = colors[2])\n",
    "plot!(t, log.(ode_data[2,:]), label = \"\", color = colors[2])\n",
    "\n",
    "scatter!(t, log.(ode_data[3,:]), label = species[3], color = colors[3])\n",
    "plot!(t, log.(ode_data[3,:]), label = \"\", color = colors[3])\n",
    "\n",
    "scatter!(t, log.(ode_data[4,:]), label = species[4], color = colors[4])\n",
    "plot!(t, log.(ode_data[4,:]), label = \"\", color = colors[4])\n",
    "\n",
    "scatter!(t, log.(ode_data[5,:]), label = species[5], color = colors[5])\n",
    "plot!(t, log.(ode_data[5,:]), label = \"\", color = colors[5])\n",
    "\n",
    "scatter!(t, log.(ode_data[6,:]), label = species[6], color = colors[6])\n",
    "plot!(t, log.(ode_data[6,:]), label = \"\", color = colors[6])\n",
    "savefig(\"6d.pdf\")"
   ]
  },
  {
   "cell_type": "code",
   "execution_count": 48,
   "metadata": {},
   "outputs": [
    {
     "name": "stdout",
     "output_type": "stream",
     "text": [
      "t is [0.0, 0.278756, 0.66342, 0.680024, 0.689116, 0.720753, 0.810108, 1.0]\n",
      "tspan is (0.0, 1.0)\n",
      "u0 is [2.59211e5, 7.57981e5, 21119.1, 946.94, 469.275, 1291.01]\n",
      "ode_data dims are is (6, 8)\n",
      "ode_data is [2.59211e5 1.28947e5 1.60526e5 2.26053e6 5.51316e5 1.38421e6 4.52632e5 2.78947e5; 7.57981e5 3.91609e6 2.7551e6 3.74169e5 2.65413e5 4.28864e5 613094.0 5.12195e5; 21119.1 36792.7 39585.6 22449.7 28784.7 24513.2 27798.5 30811.7; 946.94 1038.31 986.157 12040.2 7254.57 13329.2 7949.67 2298.77; 469.275 126.087 125.001 1145.61 956.462 1295.51 1353.95 1317.53; 1291.01 1440.22 1152.18 633.673 503.212 522.687 789.813 968.622]\n"
     ]
    },
    {
     "ename": "SingularException",
     "evalue": "SingularException(3)",
     "output_type": "error",
     "traceback": [
      "SingularException(3)",
      "",
      "Stacktrace:",
      " [1] checknonsingular at /Users/julia/buildbot/worker/package_macos64/build/usr/share/julia/stdlib/v1.0/LinearAlgebra/src/factorization.jl:12 [inlined]",
      " [2] #lu!#99(::Bool, ::Function, ::Array{Float64,2}, ::Val{true}) at /Users/julia/buildbot/worker/package_macos64/build/usr/share/julia/stdlib/v1.0/LinearAlgebra/src/lu.jl:41",
      " [3] #lu! at ./none:0 [inlined]",
      " [4] #lu#103 at /Users/julia/buildbot/worker/package_macos64/build/usr/share/julia/stdlib/v1.0/LinearAlgebra/src/lu.jl:142 [inlined]",
      " [5] lu at /Users/julia/buildbot/worker/package_macos64/build/usr/share/julia/stdlib/v1.0/LinearAlgebra/src/lu.jl:142 [inlined] (repeats 2 times)",
      " [6] inv(::Array{Float64,2}) at /Users/julia/buildbot/worker/package_macos64/build/usr/share/julia/stdlib/v1.0/LinearAlgebra/src/dense.jl:714",
      " [7] construct_estimated_solution_and_derivative!(::Array{Float64,2}, ::Array{Float64,2}, ::Array{Int64,1}, ::Array{Int64,1}, ::Transpose{Float64,Array{Float64,2}}, ::Function, ::Array{Float64,1}, ::Float64, ::Int64) at /Users/eroesch/.julia/packages/DiffEqParamEstim/mNjO8/src/two_stage_method.jl:69",
      " [8] #two_stage_method#43(::Symbol, ::Type, ::Bool, ::Bool, ::Int64, ::Nothing, ::Nothing, ::Function, ::ODEProblem{Array{Float64,1},Tuple{Float64,Float64},true,Nothing,ODEFunction{true,getfield(Main, Symbol(\"#dudt_#32\")){Chain{Tuple{Dense{typeof(tanh),TrackedArray{…,Array{Float32,2}},TrackedArray{…,Array{Float32,1}}},Dense{typeof(tanh),TrackedArray{…,Array{Float32,2}},TrackedArray{…,Array{Float32,1}}},Dense{typeof(tanh),TrackedArray{…,Array{Float32,2}},TrackedArray{…,Array{Float32,1}}},Dense{typeof(tanh),TrackedArray{…,Array{Float32,2}},TrackedArray{…,Array{Float32,1}}},Dense{typeof(identity),TrackedArray{…,Array{Float32,2}},TrackedArray{…,Array{Float32,1}}}}}},UniformScaling{Bool},Nothing,Nothing,Nothing,Nothing,Nothing,Nothing,Nothing,Nothing,Nothing},Nothing,DiffEqBase.StandardODEProblem}, ::Array{Float64,1}, ::Transpose{Float64,Array{Float64,2}}) at /Users/eroesch/.julia/packages/DiffEqParamEstim/mNjO8/src/two_stage_method.jl:86",
      " [9] two_stage_method(::ODEProblem{Array{Float64,1},Tuple{Float64,Float64},true,Nothing,ODEFunction{true,getfield(Main, Symbol(\"#dudt_#32\")){Chain{Tuple{Dense{typeof(tanh),TrackedArray{…,Array{Float32,2}},TrackedArray{…,Array{Float32,1}}},Dense{typeof(tanh),TrackedArray{…,Array{Float32,2}},TrackedArray{…,Array{Float32,1}}},Dense{typeof(tanh),TrackedArray{…,Array{Float32,2}},TrackedArray{…,Array{Float32,1}}},Dense{typeof(tanh),TrackedArray{…,Array{Float32,2}},TrackedArray{…,Array{Float32,1}}},Dense{typeof(identity),TrackedArray{…,Array{Float32,2}},TrackedArray{…,Array{Float32,1}}}}}},UniformScaling{Bool},Nothing,Nothing,Nothing,Nothing,Nothing,Nothing,Nothing,Nothing,Nothing},Nothing,DiffEqBase.StandardODEProblem}, ::Array{Float64,1}, ::Transpose{Float64,Array{Float64,2}}) at /Users/eroesch/.julia/packages/DiffEqParamEstim/mNjO8/src/two_stage_method.jl:78",
      " [10] #node_two_stage_function#31(::Base.Iterators.Pairs{Symbol,Float64,Tuple{Symbol,Symbol},NamedTuple{(:reltol, :abstol),Tuple{Float64,Float64}}}, ::Function, ::Chain{Tuple{Dense{typeof(tanh),TrackedArray{…,Array{Float32,2}},TrackedArray{…,Array{Float32,1}}},Dense{typeof(tanh),TrackedArray{…,Array{Float32,2}},TrackedArray{…,Array{Float32,1}}},Dense{typeof(tanh),TrackedArray{…,Array{Float32,2}},TrackedArray{…,Array{Float32,1}}},Dense{typeof(tanh),TrackedArray{…,Array{Float32,2}},TrackedArray{…,Array{Float32,1}}},Dense{typeof(identity),TrackedArray{…,Array{Float32,2}},TrackedArray{…,Array{Float32,1}}}}}, ::Array{Float64,1}, ::Tuple{Float64,Float64}, ::Array{Float64,1}, ::Transpose{Float64,Array{Float64,2}}, ::Rosenbrock23{0,false,DefaultLinSolve,DataType}) at ./In[48]:12",
      " [11] (::getfield(Main, Symbol(\"#kw##node_two_stage_function\")))(::NamedTuple{(:reltol, :abstol),Tuple{Float64,Float64}}, ::typeof(node_two_stage_function), ::Chain{Tuple{Dense{typeof(tanh),TrackedArray{…,Array{Float32,2}},TrackedArray{…,Array{Float32,1}}},Dense{typeof(tanh),TrackedArray{…,Array{Float32,2}},TrackedArray{…,Array{Float32,1}}},Dense{typeof(tanh),TrackedArray{…,Array{Float32,2}},TrackedArray{…,Array{Float32,1}}},Dense{typeof(tanh),TrackedArray{…,Array{Float32,2}},TrackedArray{…,Array{Float32,1}}},Dense{typeof(identity),TrackedArray{…,Array{Float32,2}},TrackedArray{…,Array{Float32,1}}}}}, ::Array{Float64,1}, ::Tuple{Float64,Float64}, ::Array{Float64,1}, ::Transpose{Float64,Array{Float64,2}}, ::Rosenbrock23{0,false,DefaultLinSolve,DataType}) at ./none:0",
      " [12] top-level scope at In[48]:19"
     ]
    }
   ],
   "source": [
    "# SingularException(3)\n",
    "dudt = Chain(Dense(6,100,tanh),\n",
    "       Dense(100,100,tanh),\n",
    "       Dense(100,100,tanh),\n",
    "       Dense(100,100,tanh),\n",
    "       Dense(100,6))\n",
    "ps = Flux.params(dudt)\n",
    "function node_two_stage_function(model, x, tspan, saveat, ode_data,\n",
    "            args...; kwargs...)\n",
    "  dudt_(du,u,p,t) = du .= model(u)\n",
    "  prob_fly = ODEProblem(dudt_, x, tspan)\n",
    "  two_stage_method(prob_fly, saveat, ode_data)\n",
    "end\n",
    "println(\"t is \", t)\n",
    "println(\"tspan is \", tspan)\n",
    "println(\"u0 is \", u0)\n",
    "println(\"ode_data dims are is \", size(ode_data))\n",
    "println(\"ode_data is \", ode_data)\n",
    "loss_n_ode = node_two_stage_function(dudt, u0, tspan, t, ode_data, Rosenbrock23(autodiff = false), reltol = 1e-7, abstol = 1e-9)"
   ]
  },
  {
   "cell_type": "code",
   "execution_count": null,
   "metadata": {},
   "outputs": [],
   "source": [
    "#  loss function\n",
    "two_stage_loss_fct() = loss_n_ode.cost_function(ps)\n",
    "# Defining anonymous function for the neural ODE with the model. in: u0, out: solution with current params.\n",
    "n_ode = x->neural_ode(dudt, x, tspan, Rosenbrock23(autodiff=false), saveat=t, reltol=1e-7, abstol=1e-9)\n",
    "n_epochs = 3000\n",
    "verify = 100 # for <verify>th epoch the L2 is calculated  \n",
    "data1 = Iterators.repeated((), n_epochs)\n",
    "opt1 = ADAM(0.1)\n",
    "sa = saver(n_epochs)\n",
    "L2_loss_fct() = sum(abs2,ode_data .- n_ode(u0))\n",
    "# Callback function to observe two stage training.\n",
    "cb1 = function ()\n",
    "    sa.count_epochs = sa.count_epochs +  1\n",
    "    if mod(sa.count_epochs-1, verify)==0\n",
    "        update_saver(sa, Tracker.data(two_stage_loss_fct()),Tracker.data(L2_loss_fct()), Dates.Time(Dates.now()))\n",
    "        # println(\"\\\"\",Tracker.data(two_stage_loss_fct()),\"\\\" \\\"\",Dates.Time(Dates.now()),\"\\\";\")\n",
    "    else\n",
    "        update_saver(sa, Tracker.data(two_stage_loss_fct()),0,Dates.Time(Dates.now()))\n",
    "        # println(\"\\\"\",Tracker.data(two_stage_loss_fct()),\"\\\" \\\"\",Dates.Time(Dates.now()),\"\\\";\")\n",
    "    end\n",
    "end;"
   ]
  },
  {
   "cell_type": "code",
   "execution_count": null,
   "metadata": {},
   "outputs": [],
   "source": [
    "pred = n_ode(u0)\n",
    "println(length(Flux.data(pred[1,:])))\n",
    "println(length(t))\n",
    "plot(t, Flux.data(pred[1,:]))"
   ]
  },
  {
   "cell_type": "code",
   "execution_count": null,
   "metadata": {},
   "outputs": [],
   "source": [
    "pred = n_ode(u0)\n",
    "scatter(t, log.(ode_data[1,:]), label = string(\"Observation: \", species[1]), grid = \"off\")\n",
    "scatter!(t, log.(ode_data[2,:]), label = string(\"Observation: \", species[2]))\n",
    "scatter!(t, log.(ode_data[3,:]), label = string(\"Observation: \", species[3]))\n",
    "scatter!(t, log.(ode_data[4,:]), label = string(\"Observation: \", species[4]))\n",
    "scatter!(t, log.(ode_data[5,:]), label = string(\"Observation: \", species[5]))\n",
    "scatter!(t, log.(ode_data[6,:]), label = string(\"Observation: \", species[6]))\n",
    "plot!(t, log.(Flux.data(pred[1,:])), label = string(\"Prediction: \", species[1]))\n",
    "plot!(t, log.(Flux.data(pred[2,:])), label = string(\"Prediction: \", species[2]))\n",
    "plot!(t, log.(Flux.data(pred[3,:])), label = string(\"Prediction: \", species[3]))\n",
    "plot!(t, log.(Flux.data(pred[4,:])), label = string(\"Prediction: \", species[4]))\n",
    "plot!(t, log.(Flux.data(pred[5,:])), label = string(\"Prediction: \", species[5]))\n",
    "plot!(t, log.(Flux.data(pred[6,:])), label = string(\"Prediction: \", species[6]))"
   ]
  },
  {
   "cell_type": "code",
   "execution_count": null,
   "metadata": {},
   "outputs": [],
   "source": [
    "# train n_ode with collocation method\n",
    "@time Flux.train!(two_stage_loss_fct, ps, data1, opt1, cb = cb1)"
   ]
  },
  {
   "cell_type": "code",
   "execution_count": null,
   "metadata": {},
   "outputs": [],
   "source": [
    "pred = n_ode(u0)\n",
    "scatter(t, ode_data[1,:], label = string(\"Observation: \", species1), grid = \"off\")\n",
    "scatter!(t, ode_data[2,:], label = string(\"Observation: \", species2))\n",
    "scatter!(t, ode_data[3,:], label = string(\"Observation: \", species3))\n",
    "scatter!(t, ode_data[4,:], label = string(\"Observation: \", species4))\n",
    "plot!(t, Flux.data(pred[1,:]), label = string(\"Prediction: \", species1))\n",
    "plot!(t, Flux.data(pred[2,:]), label = string(\"Prediction: \", species2))\n",
    "plot!(t, Flux.data(pred[3,:]), label = string(\"Prediction: \", species3))\n",
    "plot!(t, Flux.data(pred[4,:]), label = string(\"Prediction: \", species4))"
   ]
  },
  {
   "cell_type": "code",
   "execution_count": null,
   "metadata": {},
   "outputs": [],
   "source": [
    "header = string(\"Collocation model\")\n",
    "scatter(range(1, stop = length(sa.l2s)), log.(sa.l2s), width  = 2, label = \"L2 control\", grid = \"off\")\n",
    "#scatter!(range(1, stop = length(sa.losses)), log.(sa.losses), width  = 2, label = header)\n",
    "# 5% of time even with l2s"
   ]
  },
  {
   "cell_type": "code",
   "execution_count": null,
   "metadata": {},
   "outputs": [],
   "source": [
    "opt1 = ADAM(0.000001)\n",
    "sa = saver(n_epochs)\n",
    "# train n_ode with collocation method\n",
    "@time Flux.train!(two_stage_loss_fct, ps, data1, opt1, cb = cb1)"
   ]
  },
  {
   "cell_type": "code",
   "execution_count": null,
   "metadata": {},
   "outputs": [],
   "source": [
    "pred = n_ode(u0)\n",
    "scatter(t, ode_data[1,:], label = string(\"Observation: \", species1), grid = \"off\")\n",
    "scatter!(t, ode_data[2,:], label = string(\"Observation: \", species2))\n",
    "plot!(t, Flux.data(pred[1,:]), label = string(\"Prediction: \", species1))\n",
    "plot!(t, Flux.data(pred[2,:]), label = string(\"Prediction: \", species2))"
   ]
  },
  {
   "cell_type": "code",
   "execution_count": null,
   "metadata": {},
   "outputs": [],
   "source": [
    "header = string(\"Collocation model\")\n",
    "scatter(range(1, stop = length(sa.l2s)), log.(sa.l2s), width  = 2, label = \"L2 control\", grid = \"off\")\n",
    "plot!(range(1, stop = length(sa.losses)), log.(sa.losses), width  = 2, label = header)\n",
    "# 5% of time even with l2s"
   ]
  }
 ],
 "metadata": {
  "@webio": {
   "lastCommId": null,
   "lastKernelId": null
  },
  "kernel_info": {
   "name": "julia-1.0"
  },
  "kernelspec": {
   "display_name": "Julia 1.0.4",
   "language": "julia",
   "name": "julia-1.0"
  },
  "language_info": {
   "file_extension": ".jl",
   "mimetype": "application/julia",
   "name": "julia",
   "version": "1.0.4"
  },
  "nteract": {
   "version": "0.12.3"
  }
 },
 "nbformat": 4,
 "nbformat_minor": 2
}
