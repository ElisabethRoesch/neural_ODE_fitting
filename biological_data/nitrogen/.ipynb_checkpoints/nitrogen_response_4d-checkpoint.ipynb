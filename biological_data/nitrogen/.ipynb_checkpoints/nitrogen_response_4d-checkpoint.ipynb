{
 "cells": [
  {
   "cell_type": "code",
   "execution_count": null,
   "metadata": {},
   "outputs": [],
   "source": [
    "using  Plots, Optim, Dates, DiffEqParamEstim, Flux, DiffEqFlux, OrdinaryDiffEq, MAT, Statistics, LinearAlgebra"
   ]
  },
  {
   "cell_type": "code",
   "execution_count": null,
   "metadata": {},
   "outputs": [],
   "source": [
    "GS_mean = [-101.42291847737759 20384.542004960465;\n",
    "-69.45971918964945 21119.072350709095;\n",
    "-50.34850444109978 33766.773366120455;\n",
    "-40.36503932334175 36792.65681639921;\n",
    "-15.4415308191833 35790.60055540246;\n",
    "-0.2163667069439441 39585.56801560215;\n",
    "0.6828058423250809 25036.991499374642;\n",
    "1.5166161434153764 22449.706399847375;\n",
    "2.46560532508002 28784.686155215913;\n",
    "5.767635441177532 24513.174909376135;\n",
    "15.093944982652516 27798.528819451807;\n",
    "34.91354517767934 30811.693129544445]\n",
    "\n",
    "GS_AMP_mean = [-101.32081204643899 1699.0651431963197;\n",
    "-69.677357810612 946.9399868568944;\n",
    "-50.33083896861906 533.9919021474198;\n",
    "-40.333594782326045 1038.305810527214;\n",
    "-15.411499515966057 294.87206664829864;\n",
    "-0.005440965524059038 986.15733576411;\n",
    "0.09454560871685658 12688.614249676728;\n",
    "1.5734989648033206 12040.150085854206;\n",
    "2.419321787180536 7254.573590825261;\n",
    "4.681208883612783 13329.234943717805;\n",
    "14.874539814441874 7949.674601996914;\n",
    "34.905419060338204 2298.7726029720434]\n",
    "\n",
    "PII = [-100.76322958187433 571.2230990278717;\n",
    "-69.08256359498955 469.27525484344596;\n",
    "-49.78293827241711 354.62037372054965;\n",
    "-39.739310629416224 126.08657949112057;\n",
    "-14.817909162403069 99.32241097299493;\n",
    "0.20554929265804844 125.00112134106439;\n",
    "1.0010734971787087 1354.327329922463;\n",
    "1.9684768600057794 1145.6053896136905;\n",
    "2.4428489837659697 956.4620642842406;\n",
    "5.616333902476242 1295.5062630636235;\n",
    "14.866231486659046 1353.9505593249226;\n",
    "34.999775731787196 1317.5338869269572]\n",
    "\n",
    "\n",
    "PII_UMP = [-100.56515589631033 871.2177165907642;\n",
    "-68.9921386515799 1291.0119280786794;\n",
    "-49.67277772627915 1355.7043367491874;\n",
    "-39.759763890425546 1440.2175700688654;\n",
    "-14.775567323822372 1984.1038690752075;\n",
    "0.15351906728346876 1152.1764482493622;\n",
    "0.3939345914281489 1836.952523914467;\n",
    "1.0868336617616592 633.6728255701644;\n",
    "2.0628489239610985 503.21152080760476;\n",
    "5.36622999153758 522.6869724090293;\n",
    "15.134276854623351 789.8128407007932;\n",
    "34.961381013752145 968.6218867834257];"
   ]
  },
  {
   "cell_type": "code",
   "execution_count": null,
   "metadata": {},
   "outputs": [],
   "source": [
    "a = GS_mean[:,2]\n",
    "b = GS_AMP_mean[:,2]\n",
    "c = PII[:,2]\n",
    "d = PII_UMP[:,2]\n",
    "plt=plot(d,b,c, xlab = \"GS mean\", ylab = \"GS-AMP mean\", zlab  = \"PII\", grid = \"off\")\n",
    "scatter!(d,b,c)"
   ]
  },
  {
   "cell_type": "code",
   "execution_count": null,
   "metadata": {},
   "outputs": [],
   "source": [
    "# Observed data\n",
    "ode_data = transpose(hcat(a, b, c, d))\n",
    "u0 = [a[1], b[1], c[1], d[1]]\n",
    "tspan = (0.,1.)\n",
    "t = GS_mean[:,1].+abs(GS_mean[1])\n",
    "t = t./t[end]\n",
    "species1 = \"GS\"\n",
    "species2 = \"GS-AMP\"\n",
    "species3 = \"PII\"\n",
    "species4 = \"PII-UMP\"\n",
    "t"
   ]
  },
  {
   "cell_type": "code",
   "execution_count": null,
   "metadata": {},
   "outputs": [],
   "source": [
    "mutable struct saver\n",
    "    losses::Array{Float64,1}\n",
    "    l2s::Array{Float64,1}\n",
    "    times::Array{Dates.Time,1}\n",
    "    count_epochs::Int128\n",
    "end\n",
    "function saver(n_epochs)\n",
    "    losses = zeros(n_epochs)\n",
    "    l2s = zeros(n_epochs)\n",
    "    times = fill(Dates.Time(Dates.now()), n_epochs)\n",
    "    count_epochs = 0\n",
    "    return saver(losses, l2s, times, count_epochs)\n",
    "end\n",
    "function update_saver(saver, loss_i, l2_i, time_i)\n",
    "    epoch_i = saver.count_epochs\n",
    "    saver.losses[epoch_i] = loss_i\n",
    "    saver.l2s[epoch_i] = l2_i\n",
    "    saver.times[epoch_i] = time_i\n",
    "end"
   ]
  },
  {
   "cell_type": "code",
   "execution_count": null,
   "metadata": {},
   "outputs": [],
   "source": [
    "\n",
    "scatter(t, ode_data[1,:], grid = \"off\", xlab = \"time\", ylab = \"Abundance\", label = species1, legend =:topleft)\n",
    "plot!(t, ode_data[1,:], label = species1)\n",
    "\n",
    "scatter!(t, ode_data[2,:], grid = \"off\", xlab = \"time\", ylab = \"Abundance\", label = \"GS-AMP \")\n",
    "plot!(t, ode_data[2,:], grid = \"off\", xlab = \"time\", ylab = \"Abundance\", label = \"GS-AMP \")\n",
    "\n",
    "scatter!(t, ode_data[3,:], grid = \"off\", xlab = \"time\", ylab = \"Abundance\", label = \"PII \")\n",
    "plot!(t, ode_data[3,:], grid = \"off\", xlab = \"time\", ylab = \"Abundance\", label = \"PII \")\n",
    "\n",
    "scatter!(t, ode_data[4,:], grid = \"off\", xlab = \"time\", ylab = \"Abundance\", label = \"PII-UMP \")\n",
    "plot!(t, ode_data[4,:], grid = \"off\", xlab = \"time\", ylab = \"Abundance\", label = \"PII-UMP \")"
   ]
  },
  {
   "cell_type": "code",
   "execution_count": null,
   "metadata": {},
   "outputs": [],
   "source": [
    "# Building a neural ODE \n",
    "# Derivative is modeled by a neural net. Chain concatinates the functions ode function and two dense layers.\n",
    "dudt = Chain(Dense(4,100,tanh),\n",
    "       Dense(100,100,tanh),\n",
    "       Dense(100,100,tanh),\n",
    "       Dense(100,4))\n",
    "# Parameters of the model which are to be learnt. They are: W1 (2x50), b1 (50), W2 (50x2), b2 (2)\n",
    "ps = Flux.params(dudt)\n",
    "# Getting loss function from two stage collocation function\n",
    "function node_two_stage_function(model, x, tspan, saveat, ode_data,\n",
    "            args...; kwargs...)\n",
    "  dudt_(du,u,p,t) = du .= model(u)\n",
    "  prob_fly = ODEProblem(dudt_,x,tspan)\n",
    "  two_stage_method(prob_fly, saveat, ode_data)\n",
    "end\n",
    "# Rosenbrock23, TRBDF2, ABDF2, Rodas5, Rodas4P, Kvaerno5, KenCarp4, CVODE_BDF (not defined)\n",
    "loss_n_ode = node_two_stage_function(dudt, u0, tspan, t, ode_data, Rosenbrock23(autodiff=false), reltol=1e-7, abstol=1e-9)\n",
    "#  loss function\n",
    "two_stage_loss_fct()=loss_n_ode.cost_function(ps)\n",
    "# Defining anonymous function for the neural ODE with the model. in: u0, out: solution with current params.\n",
    "n_ode = x->neural_ode(dudt, x, tspan, Rosenbrock23(autodiff=false), saveat=t, reltol=1e-7, abstol=1e-9)\n",
    "n_epochs = 100000\n",
    "verify = 1000 # for <verify>th epoch the L2 is calculated  \n",
    "data1 = Iterators.repeated((), n_epochs)\n",
    "opt1 = ADAM(0.0001)\n",
    "sa = saver(n_epochs)\n",
    "L2_loss_fct() = sum(abs2,ode_data .- n_ode(u0))\n",
    "# Callback function to observe two stage training.\n",
    "cb1 = function ()\n",
    "    sa.count_epochs = sa.count_epochs +  1\n",
    "    if mod(sa.count_epochs-1, verify)==0\n",
    "        update_saver(sa, Tracker.data(two_stage_loss_fct()),Tracker.data(L2_loss_fct()), Dates.Time(Dates.now()))\n",
    "        # println(\"\\\"\",Tracker.data(two_stage_loss_fct()),\"\\\" \\\"\",Dates.Time(Dates.now()),\"\\\";\")\n",
    "    else\n",
    "        update_saver(sa, Tracker.data(two_stage_loss_fct()),0,Dates.Time(Dates.now()))\n",
    "        # println(\"\\\"\",Tracker.data(two_stage_loss_fct()),\"\\\" \\\"\",Dates.Time(Dates.now()),\"\\\";\")\n",
    "    end\n",
    "end"
   ]
  },
  {
   "cell_type": "code",
   "execution_count": null,
   "metadata": {},
   "outputs": [],
   "source": [
    "pred = n_ode(u0)\n",
    "scatter(t, ode_data[1,:], label = string(\"Observation: \", species1), grid = \"off\")\n",
    "scatter!(t, ode_data[2,:], label = string(\"Observation: \", species2))\n",
    "scatter!(t, ode_data[3,:], label = string(\"Observation: \", species3))\n",
    "scatter!(t, ode_data[4,:], label = string(\"Observation: \", species4))\n",
    "plot!(t, Flux.data(pred[1,:]), label = string(\"Prediction: \", species1))\n",
    "plot!(t, Flux.data(pred[2,:]), label = string(\"Prediction: \", species2))\n",
    "plot!(t, Flux.data(pred[3,:]), label = string(\"Prediction: \", species3))\n",
    "plot!(t, Flux.data(pred[4,:]), label = string(\"Prediction: \", species4))"
   ]
  },
  {
   "cell_type": "code",
   "execution_count": null,
   "metadata": {},
   "outputs": [],
   "source": [
    "# train n_ode with collocation method\n",
    "@time Flux.train!(two_stage_loss_fct, ps, data1, opt1, cb = cb1)"
   ]
  },
  {
   "cell_type": "code",
   "execution_count": null,
   "metadata": {},
   "outputs": [],
   "source": [
    "pred = n_ode(u0)\n",
    "scatter(t, ode_data[1,:], label = string(\"Observation: \", species1), grid = \"off\")\n",
    "scatter!(t, ode_data[2,:], label = string(\"Observation: \", species2))\n",
    "scatter!(t, ode_data[3,:], label = string(\"Observation: \", species3))\n",
    "scatter!(t, ode_data[4,:], label = string(\"Observation: \", species4))\n",
    "plot!(t, Flux.data(pred[1,:]), label = string(\"Prediction: \", species1))\n",
    "plot!(t, Flux.data(pred[2,:]), label = string(\"Prediction: \", species2))\n",
    "plot!(t, Flux.data(pred[3,:]), label = string(\"Prediction: \", species3))\n",
    "plot!(t, Flux.data(pred[4,:]), label = string(\"Prediction: \", species4))"
   ]
  },
  {
   "cell_type": "code",
   "execution_count": null,
   "metadata": {},
   "outputs": [],
   "source": [
    "header = string(\"Collocation model\")\n",
    "scatter(range(1, stop = length(sa.l2s)), log.(sa.l2s), width  = 2, label = \"L2 control\", grid = \"off\")\n",
    "plot!(range(1, stop = length(sa.losses)), log.(sa.losses), width  = 2, label = header)\n",
    "# 5% of time even with l2s"
   ]
  },
  {
   "cell_type": "code",
   "execution_count": null,
   "metadata": {},
   "outputs": [],
   "source": [
    "opt1 = ADAM(0.000001)\n",
    "sa = saver(n_epochs)\n",
    "# train n_ode with collocation method\n",
    "@time Flux.train!(two_stage_loss_fct, ps, data1, opt1, cb = cb1)"
   ]
  },
  {
   "cell_type": "code",
   "execution_count": null,
   "metadata": {},
   "outputs": [],
   "source": [
    "pred = n_ode(u0)\n",
    "scatter(t, ode_data[1,:], label = string(\"Observation: \", species1), grid = \"off\")\n",
    "scatter!(t, ode_data[2,:], label = string(\"Observation: \", species2))\n",
    "plot!(t, Flux.data(pred[1,:]), label = string(\"Prediction: \", species1))\n",
    "plot!(t, Flux.data(pred[2,:]), label = string(\"Prediction: \", species2))"
   ]
  },
  {
   "cell_type": "code",
   "execution_count": null,
   "metadata": {},
   "outputs": [],
   "source": [
    "header = string(\"Collocation model\")\n",
    "scatter(range(1, stop = length(sa.l2s)), log.(sa.l2s), width  = 2, label = \"L2 control\", grid = \"off\")\n",
    "plot!(range(1, stop = length(sa.losses)), log.(sa.losses), width  = 2, label = header)\n",
    "# 5% of time even with l2s"
   ]
  }
 ],
 "metadata": {
  "@webio": {
   "lastCommId": null,
   "lastKernelId": null
  },
  "kernel_info": {
   "name": "julia-1.0"
  },
  "kernelspec": {
   "display_name": "Julia 1.0.4",
   "language": "julia",
   "name": "julia-1.0"
  },
  "language_info": {
   "file_extension": ".jl",
   "mimetype": "application/julia",
   "name": "julia",
   "version": "1.0.4"
  },
  "nteract": {
   "version": "0.12.3"
  }
 },
 "nbformat": 4,
 "nbformat_minor": 2
}
