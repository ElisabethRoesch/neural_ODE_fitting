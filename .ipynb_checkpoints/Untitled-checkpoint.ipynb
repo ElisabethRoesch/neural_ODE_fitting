{
 "cells": [
  {
   "cell_type": "code",
   "execution_count": null,
   "metadata": {},
   "outputs": [],
   "source": [
    "Radeon Pro 560X 4 GB\n",
    "Intel UHD Graphics 630 1536 MB"
   ]
  }
 ],
 "metadata": {
  "kernelspec": {
   "display_name": "Julia 1.1.0",
   "language": "julia",
   "name": "julia-1.1"
  }
 },
 "nbformat": 4,
 "nbformat_minor": 2
}
